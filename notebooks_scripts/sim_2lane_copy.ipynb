{
 "cells": [
  {
   "cell_type": "markdown",
   "metadata": {},
   "source": [
    "# Imports and setup"
   ]
  },
  {
   "cell_type": "markdown",
   "metadata": {},
   "source": [
    "## Python libraries"
   ]
  },
  {
   "cell_type": "code",
   "execution_count": 1,
   "metadata": {},
   "outputs": [],
   "source": [
    "import numpy as np\n",
    "import matplotlib\n",
    "import matplotlib.pyplot as plt\n",
    "from matplotlib import animation\n",
    "from IPython.display import HTML\n",
    "from multiprocessing import Pool, Manager\n",
    "import itertools\n",
    "import pandas as pd\n",
    "import time\n",
    "import csv"
   ]
  },
  {
   "cell_type": "code",
   "execution_count": 2,
   "metadata": {},
   "outputs": [],
   "source": [
    "import datetime"
   ]
  },
  {
   "cell_type": "markdown",
   "metadata": {},
   "source": [
    "## Pys and Pyxs"
   ]
  },
  {
   "cell_type": "code",
   "execution_count": 3,
   "metadata": {},
   "outputs": [],
   "source": [
    "import plot_init as pu\n",
    "from model_v_4_20 import Road\n",
    "#from simulation import simulate"
   ]
  },
  {
   "cell_type": "code",
   "execution_count": 4,
   "metadata": {
    "tags": []
   },
   "outputs": [
    {
     "data": {
      "text/plain": [
       "[3.5, 2.625]"
      ]
     },
     "execution_count": 4,
     "metadata": {},
     "output_type": "execute_result"
    }
   ],
   "source": [
    "# matplotlib.rcParams.update(pu.params)\n",
    "matplotlib.rcParams.update(pu.params)\n",
    "\n",
    "plt.rcParams[\"figure.figsize\"]"
   ]
  },
  {
   "cell_type": "code",
   "execution_count": 5,
   "metadata": {},
   "outputs": [],
   "source": [
    "from plotter_functions import *\n",
    "from sim_fns import *"
   ]
  },
  {
   "cell_type": "markdown",
   "metadata": {},
   "source": [
    "# Throughput "
   ]
  },
  {
   "cell_type": "markdown",
   "metadata": {},
   "source": [
    "## PARAMETERS"
   ]
  },
  {
   "cell_type": "code",
   "execution_count": 6,
   "metadata": {},
   "outputs": [],
   "source": [
    "sim_time = 3000\n",
    "trans_time = 1000\n",
    "roadlength = 500\n",
    "num_trials = 50\n",
    "#num_lanes = 1\n",
    "\n",
    "\n",
    "vmax = 5\n",
    "p_slow = 0.1\n",
    "periodic = True\n",
    "\n",
    "#frac_tnv = 0\n",
    "#alpha = 0\n",
    "#tnv_wait_time = 5\n",
    "station_period = 1\n",
    "#num_lanes = 2\n"
   ]
  },
  {
   "cell_type": "code",
   "execution_count": 7,
   "metadata": {},
   "outputs": [],
   "source": [
    "#num_trials=50\n",
    "densities = np.linspace(0.1, 0.9, 25)\n",
    "tnv_fracs = [0.1, 0.5, 1.0]\n",
    "wait_times = [1, 2, 5, 10]\n",
    "trials = range(num_trials)"
   ]
  },
  {
   "cell_type": "code",
   "execution_count": 8,
   "metadata": {},
   "outputs": [
    {
     "data": {
      "text/plain": [
       "array([0.1       , 0.13333333, 0.16666667, 0.2       , 0.23333333,\n",
       "       0.26666667, 0.3       , 0.33333333, 0.36666667, 0.4       ,\n",
       "       0.43333333, 0.46666667, 0.5       , 0.53333333, 0.56666667,\n",
       "       0.6       , 0.63333333, 0.66666667, 0.7       , 0.73333333,\n",
       "       0.76666667, 0.8       , 0.83333333, 0.86666667, 0.9       ])"
      ]
     },
     "execution_count": 8,
     "metadata": {},
     "output_type": "execute_result"
    }
   ],
   "source": [
    "densities"
   ]
  },
  {
   "cell_type": "code",
   "execution_count": 9,
   "metadata": {},
   "outputs": [
    {
     "name": "stdout",
     "output_type": "stream",
     "text": [
      "[0.05       0.06666667 0.08333333 0.1        0.11666667 0.13333333\n",
      " 0.15       0.16666667 0.18333333 0.2        0.21666667 0.23333333\n",
      " 0.25       0.26666667 0.28333333 0.3        0.31666667 0.33333333\n",
      " 0.35       0.36666667 0.38333333 0.4        0.41666667 0.43333333\n",
      " 0.45      ]\n"
     ]
    }
   ],
   "source": [
    "densities2 = densities/2\n",
    "\n",
    "print(densities2)"
   ]
  },
  {
   "cell_type": "code",
   "execution_count": 10,
   "metadata": {},
   "outputs": [],
   "source": [
    "high_densities = np.linspace(0.1, 0.5, 10)\n",
    "low_densities = np.linspace(0.5, 0.9, 10)\n",
    "\n",
    "high_densities2 = high_densities/2\n",
    "low_densities = low_densities/2"
   ]
  },
  {
   "cell_type": "code",
   "execution_count": 11,
   "metadata": {},
   "outputs": [],
   "source": [
    "strats = [ [1,0,0], [0,1,0], [0.5,0.5,0], [0.75,0.25,0], [0.25,0.75,0] ]"
   ]
  },
  {
   "cell_type": "code",
   "execution_count": 12,
   "metadata": {},
   "outputs": [],
   "source": [
    "alphas = [10**-1, 10**-2, 10**-3, 10**-4]"
   ]
  },
  {
   "cell_type": "code",
   "execution_count": 13,
   "metadata": {},
   "outputs": [],
   "source": [
    "glob_vars = {\n",
    "    'roadlength' : roadlength,\n",
    "    'vmax' : vmax,\n",
    "    'p_slow' : p_slow,\n",
    "    'periodic' : periodic,\n",
    "    'sim_time' : sim_time,\n",
    "    'trans_time' : trans_time,\n",
    "    'num_lanes' : 1\n",
    "}"
   ]
  },
  {
   "cell_type": "code",
   "execution_count": 14,
   "metadata": {},
   "outputs": [],
   "source": [
    "glob_vars2 = {\n",
    "    'roadlength' : roadlength,\n",
    "    'vmax' : vmax,\n",
    "    'p_slow' : p_slow,\n",
    "    'periodic' : periodic,\n",
    "    'sim_time' : sim_time,\n",
    "    'trans_time' : trans_time,\n",
    "    'num_lanes' : 2\n",
    "}"
   ]
  },
  {
   "cell_type": "markdown",
   "metadata": {},
   "source": [
    "# Test Run"
   ]
  },
  {
   "cell_type": "markdown",
   "metadata": {},
   "source": [
    "# No TNV case"
   ]
  },
  {
   "cell_type": "code",
   "execution_count": null,
   "metadata": {},
   "outputs": [],
   "source": [
    "#tart_time = time.time()\n",
    "#converted_start_time = time.asctime( time.localtime(time.time()) )\n",
    "#print(\"Start time: %s\"%converted_start_time)\n",
    "\n",
    "#sim_to_csv('hi_res_no_tnv_test_again', densities2, [0], trials, alphas, [[1,0,0]], [2], [glob_vars2])\n",
    "\n",
    "#end_time = time.time()-start_time\n",
    "#converted_end_time = time.asctime( time.localtime(time.time()) )\n",
    "#duration = str(datetime.timedelta(seconds = end_time))\n",
    "#print(\"End time: %s\"%converted_end_time)\n",
    "#print(\"Simulation duration: %s\"%duration)"
   ]
  },
  {
   "cell_type": "code",
   "execution_count": null,
   "metadata": {},
   "outputs": [],
   "source": [
    "#start_time = time.time()\n",
    "#converted_start_time = time.asctime( time.localtime(time.time()) )\n",
    "#print(\"Start time: %s\"%converted_start_time)\n",
    "\n",
    "#sim_to_csv('hi_res_no_tnv_test_again', densities2, [0], trials, alphas, [[1,0,0]], [2], [glob_vars2])\n",
    "\n",
    "#end_time = time.time()-start_time\n",
    "#converted_end_time = time.asctime( time.localtime(time.time()) )\n",
    "#duration = str(datetime.timedelta(seconds = end_time))\n",
    "#print(\"End time: %s\"%converted_end_time)\n",
    "#print(\"Simulation duration: %s\"%duration)"
   ]
  },
  {
   "cell_type": "code",
   "execution_count": null,
   "metadata": {},
   "outputs": [],
   "source": [
    "#start_time = time.time()\n",
    "#converted_start_time = time.asctime( time.localtime(time.time()) )\n",
    "#print(\"Start time: %s\"%converted_start_time)\n",
    "\n",
    "#sim_to_csv('twolane_tnv1_manystrats_alpha1_p1_lowdens', low_densities2, tnv_fracs, trials, alphas, [[1,0,0]], [2], [glob_vars2])\n",
    "\n",
    "#end_time = time.time()-start_time\n",
    "#converted_end_time = time.asctime( time.localtime(time.time()) )\n",
    "#duration = str(datetime.timedelta(seconds = end_time))\n",
    "#print(\"End time: %s\"%converted_end_time)\n",
    "#print(\"Simulation duration: %s\"%duration)"
   ]
  },
  {
   "cell_type": "markdown",
   "metadata": {},
   "source": [
    "# Single-lane"
   ]
  },
  {
   "cell_type": "markdown",
   "metadata": {},
   "source": [
    "## p1 = 1"
   ]
  },
  {
   "cell_type": "code",
   "execution_count": 16,
   "metadata": {},
   "outputs": [
    {
     "name": "stdout",
     "output_type": "stream",
     "text": [
      "Start time: Sun May 29 11:33:56 2022\n",
      "End time: Sun May 29 11:45:20 2022\n",
      "Simulation duration: 0:11:24.017558\n"
     ]
    }
   ],
   "source": [
    "start_time = time.time()\n",
    "converted_start_time = time.asctime( time.localtime(time.time()) )\n",
    "print(\"Start time: %s\"%converted_start_time)\n",
    "\n",
    "sim_to_csv('twolane_1tnvfrac_1strat_alpha1_p1_dens', densities2, [1], trials, [10**-1], [[1,0,0]], [2], [glob_vars2])\n",
    "\n",
    "end_time = time.time()-start_time\n",
    "converted_end_time = time.asctime( time.localtime(time.time()) )\n",
    "duration = str(datetime.timedelta(seconds = end_time))\n",
    "print(\"End time: %s\"%converted_end_time)\n",
    "print(\"Simulation duration: %s\"%duration)"
   ]
  },
  {
   "cell_type": "code",
   "execution_count": null,
   "metadata": {},
   "outputs": [],
   "source": []
  },
  {
   "cell_type": "code",
   "execution_count": 17,
   "metadata": {},
   "outputs": [
    {
     "name": "stdout",
     "output_type": "stream",
     "text": [
      "Start time: Sun May 29 11:45:20 2022\n",
      "End time: Sun May 29 11:52:56 2022\n",
      "Simulation duration: 0:07:36.067652\n"
     ]
    }
   ],
   "source": [
    "start_time = time.time()\n",
    "converted_start_time = time.asctime( time.localtime(time.time()) )\n",
    "print(\"Start time: %s\"%converted_start_time)\n",
    "\n",
    "sim_to_csv('twolane_1tnvfrac_1strat_alpha2_p1_dens', densities2, [1], trials, [10**-2], [[1,0,0]], [2], [glob_vars2])\n",
    "\n",
    "end_time = time.time()-start_time\n",
    "converted_end_time = time.asctime( time.localtime(time.time()) )\n",
    "duration = str(datetime.timedelta(seconds = end_time))\n",
    "print(\"End time: %s\"%converted_end_time)\n",
    "print(\"Simulation duration: %s\"%duration)"
   ]
  },
  {
   "cell_type": "code",
   "execution_count": 18,
   "metadata": {},
   "outputs": [
    {
     "name": "stdout",
     "output_type": "stream",
     "text": [
      "Start time: Sun May 29 11:52:56 2022\n",
      "End time: Sun May 29 12:01:18 2022\n",
      "Simulation duration: 0:08:21.985722\n"
     ]
    }
   ],
   "source": [
    "start_time = time.time()\n",
    "converted_start_time = time.asctime( time.localtime(time.time()) )\n",
    "print(\"Start time: %s\"%converted_start_time)\n",
    "\n",
    "sim_to_csv('twolane_1tnvfrac_1strat_alpha3_p1_dens', densities2, [1], trials, [10**-3], [[1,0,0]], [2], [glob_vars2])\n",
    "\n",
    "end_time = time.time()-start_time\n",
    "converted_end_time = time.asctime( time.localtime(time.time()) )\n",
    "duration = str(datetime.timedelta(seconds = end_time))\n",
    "print(\"End time: %s\"%converted_end_time)\n",
    "print(\"Simulation duration: %s\"%duration)"
   ]
  },
  {
   "cell_type": "code",
   "execution_count": 19,
   "metadata": {},
   "outputs": [
    {
     "name": "stdout",
     "output_type": "stream",
     "text": [
      "Start time: Sun May 29 12:01:18 2022\n",
      "End time: Sun May 29 12:09:43 2022\n",
      "Simulation duration: 0:08:24.650033\n"
     ]
    }
   ],
   "source": [
    "start_time = time.time()\n",
    "converted_start_time = time.asctime( time.localtime(time.time()) )\n",
    "print(\"Start time: %s\"%converted_start_time)\n",
    "\n",
    "sim_to_csv('twolane_1tnvfrac_1strat_alpha4_p1_dens', densities2, [1], trials, [10**-4], [[1,0,0]], [2], [glob_vars2])\n",
    "\n",
    "end_time = time.time()-start_time\n",
    "converted_end_time = time.asctime( time.localtime(time.time()) )\n",
    "duration = str(datetime.timedelta(seconds = end_time))\n",
    "print(\"End time: %s\"%converted_end_time)\n",
    "print(\"Simulation duration: %s\"%duration)"
   ]
  },
  {
   "cell_type": "markdown",
   "metadata": {},
   "source": [
    "## p2 = 1"
   ]
  },
  {
   "cell_type": "code",
   "execution_count": 20,
   "metadata": {},
   "outputs": [
    {
     "name": "stdout",
     "output_type": "stream",
     "text": [
      "Start time: Sun May 29 12:09:43 2022\n",
      "End time: Sun May 29 12:16:24 2022\n",
      "Simulation duration: 0:06:41.061235\n"
     ]
    }
   ],
   "source": [
    "start_time = time.time()\n",
    "converted_start_time = time.asctime( time.localtime(time.time()) )\n",
    "print(\"Start time: %s\"%converted_start_time)\n",
    "\n",
    "sim_to_csv('twolane_1tnvfrac_1strat_alpha1_p2_dens', densities2, [1], trials, [10**-1], [[0,1,0]], [2], [glob_vars2])\n",
    "\n",
    "end_time = time.time()-start_time\n",
    "converted_end_time = time.asctime( time.localtime(time.time()) )\n",
    "duration = str(datetime.timedelta(seconds = end_time))\n",
    "print(\"End time: %s\"%converted_end_time)\n",
    "print(\"Simulation duration: %s\"%duration)"
   ]
  },
  {
   "cell_type": "code",
   "execution_count": 21,
   "metadata": {},
   "outputs": [
    {
     "name": "stdout",
     "output_type": "stream",
     "text": [
      "Start time: Sun May 29 12:16:24 2022\n",
      "End time: Sun May 29 12:24:01 2022\n",
      "Simulation duration: 0:07:36.680607\n"
     ]
    }
   ],
   "source": [
    "start_time = time.time()\n",
    "converted_start_time = time.asctime( time.localtime(time.time()) )\n",
    "print(\"Start time: %s\"%converted_start_time)\n",
    "\n",
    "sim_to_csv('twolane_1tnvfrac_1strat_alpha2_p2_dens', densities2, [1], trials, [10**-2], [[0,1,0]], [2], [glob_vars2])\n",
    "\n",
    "end_time = time.time()-start_time\n",
    "converted_end_time = time.asctime( time.localtime(time.time()) )\n",
    "duration = str(datetime.timedelta(seconds = end_time))\n",
    "print(\"End time: %s\"%converted_end_time)\n",
    "print(\"Simulation duration: %s\"%duration)"
   ]
  },
  {
   "cell_type": "code",
   "execution_count": 22,
   "metadata": {},
   "outputs": [
    {
     "name": "stdout",
     "output_type": "stream",
     "text": [
      "Start time: Sun May 29 12:24:01 2022\n",
      "End time: Sun May 29 12:32:24 2022\n",
      "Simulation duration: 0:08:23.522990\n"
     ]
    }
   ],
   "source": [
    "start_time = time.time()\n",
    "converted_start_time = time.asctime( time.localtime(time.time()) )\n",
    "print(\"Start time: %s\"%converted_start_time)\n",
    "\n",
    "sim_to_csv('twolane_1tnvfrac_1strat_alpha3_p2_dens', densities2, [1], trials, [10**-3], [[0,1,0]], [2], [glob_vars2])\n",
    "\n",
    "end_time = time.time()-start_time\n",
    "converted_end_time = time.asctime( time.localtime(time.time()) )\n",
    "duration = str(datetime.timedelta(seconds = end_time))\n",
    "print(\"End time: %s\"%converted_end_time)\n",
    "print(\"Simulation duration: %s\"%duration)"
   ]
  },
  {
   "cell_type": "code",
   "execution_count": 23,
   "metadata": {},
   "outputs": [
    {
     "name": "stdout",
     "output_type": "stream",
     "text": [
      "Start time: Sun May 29 12:32:24 2022\n",
      "End time: Sun May 29 12:40:50 2022\n",
      "Simulation duration: 0:08:26.314354\n"
     ]
    }
   ],
   "source": [
    "start_time = time.time()\n",
    "converted_start_time = time.asctime( time.localtime(time.time()) )\n",
    "print(\"Start time: %s\"%converted_start_time)\n",
    "\n",
    "sim_to_csv('twolane_1tnvfrac_1strat_alpha4_p2_dens', densities2, [1], trials, [10**-4], [[0,1,0]], [2], [glob_vars2])\n",
    "\n",
    "end_time = time.time()-start_time\n",
    "converted_end_time = time.asctime( time.localtime(time.time()) )\n",
    "duration = str(datetime.timedelta(seconds = end_time))\n",
    "print(\"End time: %s\"%converted_end_time)\n",
    "print(\"Simulation duration: %s\"%duration)"
   ]
  },
  {
   "cell_type": "markdown",
   "metadata": {},
   "source": [
    "## p1 = 0.5 p2 = 0.5"
   ]
  },
  {
   "cell_type": "code",
   "execution_count": 24,
   "metadata": {},
   "outputs": [
    {
     "name": "stdout",
     "output_type": "stream",
     "text": [
      "Start time: Sun May 29 12:40:50 2022\n",
      "End time: Sun May 29 12:47:31 2022\n",
      "Simulation duration: 0:06:40.709860\n"
     ]
    }
   ],
   "source": [
    "start_time = time.time()\n",
    "converted_start_time = time.asctime( time.localtime(time.time()) )\n",
    "print(\"Start time: %s\"%converted_start_time)\n",
    "\n",
    "sim_to_csv('twolane_1tnvfrac_1strat_alpha1_0505_dens', densities2, [1], trials, [10**-1], [[0.5,0.5,0]], [2], [glob_vars2])\n",
    "\n",
    "end_time = time.time()-start_time\n",
    "converted_end_time = time.asctime( time.localtime(time.time()) )\n",
    "duration = str(datetime.timedelta(seconds = end_time))\n",
    "print(\"End time: %s\"%converted_end_time)\n",
    "print(\"Simulation duration: %s\"%duration)"
   ]
  },
  {
   "cell_type": "code",
   "execution_count": 25,
   "metadata": {},
   "outputs": [
    {
     "name": "stdout",
     "output_type": "stream",
     "text": [
      "Start time: Sun May 29 12:47:31 2022\n",
      "End time: Sun May 29 12:55:07 2022\n",
      "Simulation duration: 0:07:36.084960\n"
     ]
    }
   ],
   "source": [
    "start_time = time.time()\n",
    "converted_start_time = time.asctime( time.localtime(time.time()) )\n",
    "print(\"Start time: %s\"%converted_start_time)\n",
    "\n",
    "sim_to_csv('twolane_1tnvfrac_1strat_alpha2_0505_dens', densities2, [1], trials, [10**-2], [[0.5,0.5,0]], [2], [glob_vars2])\n",
    "\n",
    "end_time = time.time()-start_time\n",
    "converted_end_time = time.asctime( time.localtime(time.time()) )\n",
    "duration = str(datetime.timedelta(seconds = end_time))\n",
    "print(\"End time: %s\"%converted_end_time)\n",
    "print(\"Simulation duration: %s\"%duration)"
   ]
  },
  {
   "cell_type": "code",
   "execution_count": 26,
   "metadata": {},
   "outputs": [
    {
     "name": "stdout",
     "output_type": "stream",
     "text": [
      "Start time: Sun May 29 12:55:07 2022\n",
      "End time: Sun May 29 13:03:30 2022\n",
      "Simulation duration: 0:08:22.902377\n"
     ]
    }
   ],
   "source": [
    "start_time = time.time()\n",
    "converted_start_time = time.asctime( time.localtime(time.time()) )\n",
    "print(\"Start time: %s\"%converted_start_time)\n",
    "\n",
    "sim_to_csv('twolane_1tnvfrac_1strat_alpha3_0505_dens', densities2, [1], trials, [10**-3], [[0.5,0.5,0]], [2], [glob_vars2])\n",
    "\n",
    "end_time = time.time()-start_time\n",
    "converted_end_time = time.asctime( time.localtime(time.time()) )\n",
    "duration = str(datetime.timedelta(seconds = end_time))\n",
    "print(\"End time: %s\"%converted_end_time)\n",
    "print(\"Simulation duration: %s\"%duration)"
   ]
  },
  {
   "cell_type": "code",
   "execution_count": 27,
   "metadata": {},
   "outputs": [
    {
     "name": "stdout",
     "output_type": "stream",
     "text": [
      "Start time: Sun May 29 13:03:30 2022\n",
      "End time: Sun May 29 13:11:56 2022\n",
      "Simulation duration: 0:08:25.452664\n"
     ]
    }
   ],
   "source": [
    "start_time = time.time()\n",
    "converted_start_time = time.asctime( time.localtime(time.time()) )\n",
    "print(\"Start time: %s\"%converted_start_time)\n",
    "\n",
    "sim_to_csv('twolane_1tnvfrac_1strat_alpha4_0505_dens', densities2, [1], trials, [10**-4], [[0.5,0.5,0]], [2], [glob_vars2])\n",
    "\n",
    "end_time = time.time()-start_time\n",
    "converted_end_time = time.asctime( time.localtime(time.time()) )\n",
    "duration = str(datetime.timedelta(seconds = end_time))\n",
    "print(\"End time: %s\"%converted_end_time)\n",
    "print(\"Simulation duration: %s\"%duration)"
   ]
  },
  {
   "cell_type": "markdown",
   "metadata": {},
   "source": [
    "## p1 = 0.75 p2 = 0.25"
   ]
  },
  {
   "cell_type": "code",
   "execution_count": 28,
   "metadata": {},
   "outputs": [
    {
     "name": "stdout",
     "output_type": "stream",
     "text": [
      "Start time: Sun May 29 13:11:56 2022\n",
      "End time: Sun May 29 13:18:37 2022\n",
      "Simulation duration: 0:06:40.903329\n"
     ]
    }
   ],
   "source": [
    "start_time = time.time()\n",
    "converted_start_time = time.asctime( time.localtime(time.time()) )\n",
    "print(\"Start time: %s\"%converted_start_time)\n",
    "\n",
    "sim_to_csv('twolane_1tnvfrac_1strat_alpha1_7525_dens', densities2, [1], trials, [10**-1], [[0.75,0.25,0]], [2], [glob_vars2])\n",
    "\n",
    "end_time = time.time()-start_time\n",
    "converted_end_time = time.asctime( time.localtime(time.time()) )\n",
    "duration = str(datetime.timedelta(seconds = end_time))\n",
    "print(\"End time: %s\"%converted_end_time)\n",
    "print(\"Simulation duration: %s\"%duration)"
   ]
  },
  {
   "cell_type": "code",
   "execution_count": 29,
   "metadata": {},
   "outputs": [
    {
     "name": "stdout",
     "output_type": "stream",
     "text": [
      "Start time: Sun May 29 13:18:37 2022\n",
      "End time: Sun May 29 13:26:12 2022\n",
      "Simulation duration: 0:07:35.734238\n"
     ]
    }
   ],
   "source": [
    "start_time = time.time()\n",
    "converted_start_time = time.asctime( time.localtime(time.time()) )\n",
    "print(\"Start time: %s\"%converted_start_time)\n",
    "\n",
    "sim_to_csv('twolane_1tnvfrac_1strat_alpha2_7525_dens', densities2, [1], trials, [10**-2], [[0.75,0.25,0]], [2], [glob_vars2])\n",
    "\n",
    "end_time = time.time()-start_time\n",
    "converted_end_time = time.asctime( time.localtime(time.time()) )\n",
    "duration = str(datetime.timedelta(seconds = end_time))\n",
    "print(\"End time: %s\"%converted_end_time)\n",
    "print(\"Simulation duration: %s\"%duration)"
   ]
  },
  {
   "cell_type": "code",
   "execution_count": 30,
   "metadata": {},
   "outputs": [
    {
     "name": "stdout",
     "output_type": "stream",
     "text": [
      "Start time: Sun May 29 13:26:12 2022\n",
      "End time: Sun May 29 13:34:35 2022\n",
      "Simulation duration: 0:08:22.334769\n"
     ]
    }
   ],
   "source": [
    "start_time = time.time()\n",
    "converted_start_time = time.asctime( time.localtime(time.time()) )\n",
    "print(\"Start time: %s\"%converted_start_time)\n",
    "\n",
    "sim_to_csv('twolane_1tnvfrac_1strat_alpha3_7525_dens', densities2, [1], trials, [10**-3], [[0.75,0.25,0]], [2], [glob_vars2])\n",
    "\n",
    "end_time = time.time()-start_time\n",
    "converted_end_time = time.asctime( time.localtime(time.time()) )\n",
    "duration = str(datetime.timedelta(seconds = end_time))\n",
    "print(\"End time: %s\"%converted_end_time)\n",
    "print(\"Simulation duration: %s\"%duration)"
   ]
  },
  {
   "cell_type": "code",
   "execution_count": 31,
   "metadata": {},
   "outputs": [
    {
     "name": "stdout",
     "output_type": "stream",
     "text": [
      "Start time: Sun May 29 13:34:35 2022\n",
      "End time: Sun May 29 13:43:00 2022\n",
      "Simulation duration: 0:08:25.438297\n"
     ]
    }
   ],
   "source": [
    "start_time = time.time()\n",
    "converted_start_time = time.asctime( time.localtime(time.time()) )\n",
    "print(\"Start time: %s\"%converted_start_time)\n",
    "\n",
    "sim_to_csv('twolane_1tnvfrac_1strat_alpha4_7525_dens', densities2, [1], trials, [10**-4], [[0.75,0.25,0]], [2], [glob_vars2])\n",
    "\n",
    "end_time = time.time()-start_time\n",
    "converted_end_time = time.asctime( time.localtime(time.time()) )\n",
    "duration = str(datetime.timedelta(seconds = end_time))\n",
    "print(\"End time: %s\"%converted_end_time)\n",
    "print(\"Simulation duration: %s\"%duration)"
   ]
  },
  {
   "cell_type": "markdown",
   "metadata": {},
   "source": [
    "## p1 = 0.25 p2 = 0.75"
   ]
  },
  {
   "cell_type": "code",
   "execution_count": 32,
   "metadata": {},
   "outputs": [
    {
     "name": "stdout",
     "output_type": "stream",
     "text": [
      "Start time: Sun May 29 13:43:00 2022\n",
      "End time: Sun May 29 13:49:42 2022\n",
      "Simulation duration: 0:06:42.156210\n"
     ]
    }
   ],
   "source": [
    "start_time = time.time()\n",
    "converted_start_time = time.asctime( time.localtime(time.time()) )\n",
    "print(\"Start time: %s\"%converted_start_time)\n",
    "\n",
    "sim_to_csv('twolane_1tnvfrac_1strat_alpha1_2575_dens', densities2, [1], trials, [10**-1], [[0.25,0.75,0]], [2], [glob_vars2])\n",
    "\n",
    "end_time = time.time()-start_time\n",
    "converted_end_time = time.asctime( time.localtime(time.time()) )\n",
    "duration = str(datetime.timedelta(seconds = end_time))\n",
    "print(\"End time: %s\"%converted_end_time)\n",
    "print(\"Simulation duration: %s\"%duration)"
   ]
  },
  {
   "cell_type": "code",
   "execution_count": 33,
   "metadata": {},
   "outputs": [
    {
     "name": "stdout",
     "output_type": "stream",
     "text": [
      "Start time: Sun May 29 13:49:42 2022\n",
      "End time: Sun May 29 13:57:20 2022\n",
      "Simulation duration: 0:07:37.535035\n"
     ]
    }
   ],
   "source": [
    "start_time = time.time()\n",
    "converted_start_time = time.asctime( time.localtime(time.time()) )\n",
    "print(\"Start time: %s\"%converted_start_time)\n",
    "\n",
    "sim_to_csv('twolane_1tnvfrac_1strat_alpha2_2575_dens', densities2, [1], trials, [10**-2], [[0.25,0.75,0]], [2], [glob_vars2])\n",
    "\n",
    "end_time = time.time()-start_time\n",
    "converted_end_time = time.asctime( time.localtime(time.time()) )\n",
    "duration = str(datetime.timedelta(seconds = end_time))\n",
    "print(\"End time: %s\"%converted_end_time)\n",
    "print(\"Simulation duration: %s\"%duration)"
   ]
  },
  {
   "cell_type": "code",
   "execution_count": 34,
   "metadata": {},
   "outputs": [
    {
     "name": "stdout",
     "output_type": "stream",
     "text": [
      "Start time: Sun May 29 13:57:20 2022\n",
      "End time: Sun May 29 14:05:43 2022\n",
      "Simulation duration: 0:08:23.511060\n"
     ]
    }
   ],
   "source": [
    "start_time = time.time()\n",
    "converted_start_time = time.asctime( time.localtime(time.time()) )\n",
    "print(\"Start time: %s\"%converted_start_time)\n",
    "\n",
    "sim_to_csv('twolane_1tnvfrac_1strat_alpha3_2575_dens', densities2, [1], trials, [10**-3], [[0.25,0.75,0]], [2], [glob_vars2])\n",
    "\n",
    "end_time = time.time()-start_time\n",
    "converted_end_time = time.asctime( time.localtime(time.time()) )\n",
    "duration = str(datetime.timedelta(seconds = end_time))\n",
    "print(\"End time: %s\"%converted_end_time)\n",
    "print(\"Simulation duration: %s\"%duration)"
   ]
  },
  {
   "cell_type": "code",
   "execution_count": 35,
   "metadata": {},
   "outputs": [
    {
     "name": "stdout",
     "output_type": "stream",
     "text": [
      "Start time: Sun May 29 14:05:43 2022\n",
      "End time: Sun May 29 14:14:09 2022\n",
      "Simulation duration: 0:08:25.488501\n"
     ]
    }
   ],
   "source": [
    "start_time = time.time()\n",
    "converted_start_time = time.asctime( time.localtime(time.time()) )\n",
    "print(\"Start time: %s\"%converted_start_time)\n",
    "\n",
    "sim_to_csv('twolane_1tnvfrac_1strat_alpha4_2575_dens', densities2, [1], trials, [10**-4], [[0.25,0.75,0]], [2], [glob_vars2])\n",
    "\n",
    "end_time = time.time()-start_time\n",
    "converted_end_time = time.asctime( time.localtime(time.time()) )\n",
    "duration = str(datetime.timedelta(seconds = end_time))\n",
    "print(\"End time: %s\"%converted_end_time)\n",
    "print(\"Simulation duration: %s\"%duration)"
   ]
  },
  {
   "cell_type": "code",
   "execution_count": null,
   "metadata": {},
   "outputs": [],
   "source": []
  }
 ],
 "metadata": {
  "kernelspec": {
   "display_name": "Python [conda env:crowding]",
   "language": "python",
   "name": "conda-env-crowding-py"
  },
  "language_info": {
   "codemirror_mode": {
    "name": "ipython",
    "version": 3
   },
   "file_extension": ".py",
   "mimetype": "text/x-python",
   "name": "python",
   "nbconvert_exporter": "python",
   "pygments_lexer": "ipython3",
   "version": "3.10.2"
  },
  "toc-autonumbering": true,
  "toc-showcode": false,
  "toc-showmarkdowntxt": true
 },
 "nbformat": 4,
 "nbformat_minor": 4
}
